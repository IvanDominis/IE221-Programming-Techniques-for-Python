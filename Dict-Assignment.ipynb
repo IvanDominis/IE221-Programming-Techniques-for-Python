{
 "cells": [
  {
   "attachments": {},
   "cell_type": "markdown",
   "metadata": {},
   "source": [
    "1. Tạo từ điển D lấy dữ liệu từ 2 danh sách keys và values.\n",
    " Ví dụ: keys = ['Ten','Twenty', 'Thirty']; \n",
    "        values = [10, 20, 30] "
   ]
  },
  {
   "cell_type": "code",
   "execution_count": 1,
   "metadata": {},
   "outputs": [],
   "source": [
    "keys = ['ten','twenty','thirty']\n",
    "values = [10,20,30]\n",
    "D = dict(zip(keys,values))\n",
    "print(D)"
   ]
  },
  {
   "attachments": {},
   "cell_type": "markdown",
   "metadata": {},
   "source": [
    "2.Thêm 1 phần tử vào D (2 trường hợp: key đã có và chưa có)"
   ]
  },
  {
   "cell_type": "code",
   "execution_count": 2,
   "metadata": {},
   "outputs": [
    {
     "name": "stdout",
     "output_type": "stream",
     "text": [
      "{'ten': 11, 'twenty': 20, 'thirty': 30, 'forty': 40}\n"
     ]
    }
   ],
   "source": [
    "# Key has value\n",
    "D['ten'] = 11\n",
    "# Key doesn't have value\n",
    "D['forty'] = 40\n",
    "print(D)"
   ]
  },
  {
   "attachments": {},
   "cell_type": "markdown",
   "metadata": {},
   "source": [
    "3. Tìm 1 phần tử trên D theo key hoặc theo value"
   ]
  },
  {
   "cell_type": "code",
   "execution_count": 4,
   "metadata": {},
   "outputs": [],
   "source": [
    "def get_key(a,dic):\n",
    "    for k,v in dic.items():\n",
    "        if v == a: return k"
   ]
  },
  {
   "cell_type": "code",
   "execution_count": 5,
   "metadata": {},
   "outputs": [
    {
     "name": "stdout",
     "output_type": "stream",
     "text": [
      "20\n",
      "20\n",
      "twenty\n"
     ]
    }
   ],
   "source": [
    "# Find the value by key\n",
    "print(D['twenty'])\n",
    "print(D.get('twenty'))\n",
    "# Find the key by value\n",
    "print(get_key(20,D))"
   ]
  },
  {
   "attachments": {},
   "cell_type": "markdown",
   "metadata": {},
   "source": [
    "4. Tạo D2 có 5 phần tử với key là cách đọc số tiếng Anh (có thể trùng với key trong\n",
    "D) và value là giá trị ngầm định "
   ]
  },
  {
   "cell_type": "code",
   "execution_count": 7,
   "metadata": {},
   "outputs": [
    {
     "name": "stdout",
     "output_type": "stream",
     "text": [
      "{'zero': 0, 'one': 1, 'two': 2, 'three': 3, 'four': 4, 'five': 5, 'six': 6, 'seven': 7, 'eight': 8, 'nine': 9}\n"
     ]
    }
   ],
   "source": [
    "pronun = ['zero','one','two','three','four','five','six','seven','eight','nine']\n",
    "number = [0,1,2,3,4,5,6,7,8,9]\n",
    "D2 = dict(zip(pronun,number))\n",
    "print(D2)"
   ]
  },
  {
   "attachments": {},
   "cell_type": "markdown",
   "metadata": {},
   "source": [
    "5. Ghép 2 từ điển D2 và D thành từ điển mới D3"
   ]
  },
  {
   "cell_type": "code",
   "execution_count": 8,
   "metadata": {},
   "outputs": [
    {
     "name": "stdout",
     "output_type": "stream",
     "text": [
      "{'ten': 11, 'twenty': 20, 'thirty': 30, 'forty': 40, 'zero': 0, 'one': 1, 'two': 2, 'three': 3, 'four': 4, 'five': 5, 'six': 6, 'seven': 7, 'eight': 8, 'nine': 9}\n"
     ]
    }
   ],
   "source": [
    "D3 = {}\n",
    "D3.update(D)\n",
    "D3.update(D2)\n",
    "print(D3)"
   ]
  },
  {
   "attachments": {},
   "cell_type": "markdown",
   "metadata": {},
   "source": [
    "6. Xóa một phần tử trên D3 theo key hoặc theo value"
   ]
  },
  {
   "cell_type": "code",
   "execution_count": 9,
   "metadata": {},
   "outputs": [
    {
     "name": "stdout",
     "output_type": "stream",
     "text": [
      "{'ten': 11, 'twenty': 20, 'thirty': 30, 'zero': 0, 'one': 1, 'two': 2, 'three': 3, 'four': 4, 'five': 5, 'six': 6, 'seven': 7, 'eight': 8, 'nine': 9}\n"
     ]
    }
   ],
   "source": [
    "D3.pop('forty')\n",
    "print(D3)"
   ]
  },
  {
   "attachments": {},
   "cell_type": "markdown",
   "metadata": {},
   "source": [
    "7. Đổi khóa của 1 phần tử trong D3 (key thay đổi, value không đổi) "
   ]
  },
  {
   "cell_type": "code",
   "execution_count": 10,
   "metadata": {},
   "outputs": [
    {
     "name": "stdout",
     "output_type": "stream",
     "text": [
      "{'ten': 11, 'twenty': 20, 'thirty': 30, 'one': 1, 'two': 2, 'three': 3, 'four': 4, 'five': 5, 'six': 6, 'seven': 7, 'eight': 8, 'nine': 9, 'Zero': 0}\n"
     ]
    }
   ],
   "source": [
    "D3['Zero'] = D3['zero']\n",
    "del D3['zero']\n",
    "print(D3)"
   ]
  },
  {
   "attachments": {},
   "cell_type": "markdown",
   "metadata": {},
   "source": [
    "8. Đổi giá trị 1 phần tử trong D3 (key không đổi, value đổi)"
   ]
  },
  {
   "cell_type": "code",
   "execution_count": 11,
   "metadata": {},
   "outputs": [
    {
     "name": "stdout",
     "output_type": "stream",
     "text": [
      "{'ten': 10, 'twenty': 20, 'thirty': 30, 'one': 1, 'two': 2, 'three': 3, 'four': 4, 'five': 5, 'six': 6, 'seven': 7, 'eight': 8, 'nine': 9, 'Zero': 0}\n"
     ]
    }
   ],
   "source": [
    "D3['ten'] = 10\n",
    "print(D3)"
   ]
  },
  {
   "attachments": {},
   "cell_type": "markdown",
   "metadata": {},
   "source": [
    "9. Tìm key có value là giá trị nhỏ nhất/lớn nhất của D3"
   ]
  },
  {
   "cell_type": "code",
   "execution_count": 13,
   "metadata": {},
   "outputs": [
    {
     "name": "stdout",
     "output_type": "stream",
     "text": [
      "thirty Zero\n"
     ]
    }
   ],
   "source": [
    "Max = max(D3.values())\n",
    "Min = min(D3.values())\n",
    "print(get_key(Max,D3), get_key(Min,D3))"
   ]
  },
  {
   "attachments": {},
   "cell_type": "markdown",
   "metadata": {},
   "source": [
    "10.Nhập số N; tạo từ điển có N phần tử theo dạng (x, x^2) với x là số tự nhiên không\n",
    "vượt quá N. Ví dụ {1:1, 2:4, 3:9, 4:16}"
   ]
  },
  {
   "cell_type": "code",
   "execution_count": 14,
   "metadata": {},
   "outputs": [
    {
     "name": "stdout",
     "output_type": "stream",
     "text": [
      "{1: 1, 2: 4, 3: 9, 4: 16, 5: 25}\n"
     ]
    }
   ],
   "source": [
    "n = int(input())\n",
    "a = list(range(1,n+1))\n",
    "b = [i**2 for i in a]\n",
    "dic = dict(zip(a,b))\n",
    "print(dic)"
   ]
  }
 ],
 "metadata": {
  "kernelspec": {
   "display_name": "Python 3",
   "language": "python",
   "name": "python3"
  },
  "language_info": {
   "codemirror_mode": {
    "name": "ipython",
    "version": 3
   },
   "file_extension": ".py",
   "mimetype": "text/x-python",
   "name": "python",
   "nbconvert_exporter": "python",
   "pygments_lexer": "ipython3",
   "version": "3.11.0"
  },
  "orig_nbformat": 4
 },
 "nbformat": 4,
 "nbformat_minor": 2
}
