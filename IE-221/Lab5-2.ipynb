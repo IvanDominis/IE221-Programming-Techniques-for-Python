{
 "cells": [
  {
   "cell_type": "code",
   "execution_count": null,
   "metadata": {},
   "outputs": [],
   "source": [
    "import sounddevice\n",
    "import soundfile\n"
   ]
  },
  {
   "attachments": {},
   "cell_type": "markdown",
   "metadata": {},
   "source": [
    "## Bài tập 2"
   ]
  },
  {
   "attachments": {},
   "cell_type": "markdown",
   "metadata": {},
   "source": [
    " Phát nhạc "
   ]
  },
  {
   "cell_type": "code",
   "execution_count": 3,
   "metadata": {},
   "outputs": [],
   "source": [
    "path = \"C:/Users/VQ/Downloads/Data-Lab5-2/VietNamtoi.wav\"\n",
    "data, fs = soundfile.read(path,dtype='float32')\n",
    "sounddevice.play(data,fs)"
   ]
  },
  {
   "cell_type": "code",
   "execution_count": null,
   "metadata": {},
   "outputs": [],
   "source": [
    "from playsound import playsound\n",
    "playsound('path')"
   ]
  },
  {
   "attachments": {},
   "cell_type": "markdown",
   "metadata": {},
   "source": [
    "Ghi âm "
   ]
  },
  {
   "cell_type": "code",
   "execution_count": null,
   "metadata": {},
   "outputs": [],
   "source": [
    "import pyaudio\n",
    "import wave\n",
    "\n",
    "chunk = 1024\n",
    "sample_format = pyaudio.paInt16\n",
    "channels = 1\n",
    "fs = 44100 # frames per channel\n",
    "seconds = 10\n",
    "filename = \"C:/Users/VQ/Downloads/output_pyaudio.wav\"\n",
    "\n",
    "p=pyaudio.PyAudio()\n",
    "\n",
    "print(\"Recording ...\")\n",
    "\n",
    "stream = p.open(format = sample_format,\n",
    "                channels = channels,\n",
    "                rate = fs,\n",
    "                frames_per_buffer =  chunk,\n",
    "                input = True)\n",
    "\n",
    "frames = []\n",
    "for i in range(0, int(fs/chunk * seconds)):\n",
    "    data = stream.read(chunk)\n",
    "    frames.append(data)\n",
    "\n",
    "stream.stop_stream()\n",
    "stream.close()\n",
    "p.terminate()\n",
    "\n",
    "print(\"... Ending Recording\")\n",
    "with wave.open(filename, 'wb') as wf:\n",
    "    wf.setnchannels(channels)\n",
    "    wf.setsampwidth(p.get_sample_size(sample_format))\n",
    "    wf.setframerate(fs)\n",
    "    wf.writeframes(b''.join(frames))\n",
    "    wf.close()"
   ]
  },
  {
   "attachments": {},
   "cell_type": "markdown",
   "metadata": {},
   "source": [
    "## Bài tập 3"
   ]
  },
  {
   "attachments": {},
   "cell_type": "markdown",
   "metadata": {},
   "source": [
    "a.Clipping audio "
   ]
  },
  {
   "cell_type": "code",
   "execution_count": 6,
   "metadata": {},
   "outputs": [
    {
     "name": "stderr",
     "output_type": "stream",
     "text": [
      "c:\\Users\\VQ\\AppData\\Local\\Programs\\Python\\Python311\\Lib\\site-packages\\pydub\\utils.py:170: RuntimeWarning: Couldn't find ffmpeg or avconv - defaulting to ffmpeg, but may not work\n",
      "  warn(\"Couldn't find ffmpeg or avconv - defaulting to ffmpeg, but may not work\", RuntimeWarning)\n"
     ]
    },
    {
     "data": {
      "text/plain": [
       "<_io.BufferedRandom name='C:/Users/VQ/Downloads/trimmed_output_pydub.wav'>"
      ]
     },
     "execution_count": 6,
     "metadata": {},
     "output_type": "execute_result"
    }
   ],
   "source": [
    "from pydub import AudioSegment\n",
    "\n",
    "# start at 0 milliseconds\n",
    "# end at 1500 milliseconds\n",
    "start = 0\n",
    "end = 10000\n",
    "\n",
    "sound = AudioSegment.from_wav(path)\n",
    "extract = sound[start:end]\n",
    "\n",
    "extract.export(\"C:/Users/VQ/Downloads/trimmed_output_pydub.wav\", format=\"wav\")"
   ]
  },
  {
   "attachments": {},
   "cell_type": "markdown",
   "metadata": {},
   "source": [
    "b. Gộp file âm thanh"
   ]
  },
  {
   "cell_type": "code",
   "execution_count": 8,
   "metadata": {},
   "outputs": [
    {
     "data": {
      "text/plain": [
       "<_io.BufferedRandom name='louder_and_quieter.wav'>"
      ]
     },
     "execution_count": 8,
     "metadata": {},
     "output_type": "execute_result"
    }
   ],
   "source": [
    "from pydub import AudioSegment\n",
    "from pydub.playback import play\n",
    "\n",
    "sound1 = AudioSegment.from_wav(\"C:/Users/VQ/Downloads/Data-Lab5-2/phonesound.wav\")\n",
    "sound2 = AudioSegment.from_wav(path)\n",
    "\n",
    "combined = sound1 + sound2\n",
    "\n",
    "# play(combined)\n",
    "combined.export(\"louder_and_quieter.wav\", format=\"wav\")"
   ]
  },
  {
   "attachments": {},
   "cell_type": "markdown",
   "metadata": {},
   "source": [
    "## Bài tập 6 "
   ]
  },
  {
   "attachments": {},
   "cell_type": "markdown",
   "metadata": {},
   "source": [
    "a. Phát video bài hát ABC song được lưu trong file ABCsong.mp4"
   ]
  },
  {
   "cell_type": "code",
   "execution_count": 12,
   "metadata": {},
   "outputs": [],
   "source": [
    "# importing libraries\n",
    "import cv2\n",
    "import numpy as np\n",
    "  \n",
    "# Create a VideoCapture object and read from input file\n",
    "cap = cv2.VideoCapture(\"C:/Users/VQ/Downloads/Data-Lab5-2/ABCsong.mp4\")\n",
    "  \n",
    "# Check if camera opened successfully\n",
    "if (cap.isOpened()== False):\n",
    "    print(\"Error opening video file\")\n",
    "  \n",
    "# Read until video is completed\n",
    "while(cap.isOpened()):\n",
    "      \n",
    "# Capture frame-by-frame\n",
    "    ret, frame = cap.read()\n",
    "    if ret == True:\n",
    "    # Display the resulting frame\n",
    "        cv2.imshow('Video', frame)\n",
    "          \n",
    "    # Press Q on keyboard to exit\n",
    "        if cv2.waitKey(5) & 0xFF == ord('q'):\n",
    "            break\n",
    "  \n",
    "# Break the loop\n",
    "    else:\n",
    "        break\n",
    "  \n",
    "# When everything done, release\n",
    "# the video capture object\n",
    "cap.release()\n",
    "  \n",
    "# Closes all the frames\n",
    "cv2.destroyAllWindows()"
   ]
  },
  {
   "attachments": {},
   "cell_type": "markdown",
   "metadata": {},
   "source": [
    "b. Phát video bài hát ABC song được lưu trong file ABCsong.mp4\n",
    "nhưng theo chiều ngược (phát ngược từ cuối video ngược lên đầu\n",
    "video).\n"
   ]
  },
  {
   "cell_type": "code",
   "execution_count": 14,
   "metadata": {},
   "outputs": [],
   "source": [
    "# import cv2 library\n",
    "import cv2\n",
    "# videoCapture method of cv2 return video object\n",
    "# Pass absolute address of video file\n",
    "cap = cv2.VideoCapture(\"C:/Users/VQ/Downloads/Data-Lab5-2/ABCsong.mp4\")\n",
    "\n",
    "# Grab the current frame.\n",
    "check , vid = cap.read()\n",
    "counter = 0\n",
    "check = True\n",
    "\n",
    "frame_list = []\n",
    "while(check == True):\n",
    "\t# cv2.imwrite(\"frame%d.jpg\" %counter , vid)\n",
    "\tcheck , vid = cap.read()\n",
    "\tframe_list.append(vid)\n",
    "\tcounter += 1\n",
    "frame_list.pop()\n",
    "cap.release()\n",
    "cv2.destroyAllWindows()\n",
    "frame_list.reverse()\n",
    "for frame in frame_list:\n",
    "\tcv2.imshow(\"Video\" , frame)\n",
    "\tif cv2.waitKey(5) and 0xFF == ord(\"q\"):\n",
    "\t\tbreak\n",
    "cap.release()\n",
    "cv2.destroyAllWindows()\n"
   ]
  },
  {
   "attachments": {},
   "cell_type": "markdown",
   "metadata": {},
   "source": [
    "## Bài tập 7"
   ]
  },
  {
   "attachments": {},
   "cell_type": "markdown",
   "metadata": {},
   "source": [
    "a. Trích xuất ra tất cả các frame ảnh của video bài hát ABC song được\n",
    "lưu trong file ABCsong.mp4 và lưu thành các file ảnh có định dạng\n",
    ".jpg"
   ]
  },
  {
   "cell_type": "code",
   "execution_count": 15,
   "metadata": {},
   "outputs": [],
   "source": [
    "import cv2\n",
    "\n",
    "cap = cv2.VideoCapture(\"C:/Users/VQ/Downloads/Data-Lab5-2/ABCsong.mp4\")\n",
    "check , vid = cap.read()\n",
    "counter = 0\n",
    "check = True\n",
    "frame_list = []\n",
    "while(check == True):\n",
    "    cv2.imwrite(\"C:/Users/VQ/Downloads/frame-per-mls/frame%d.jpg\" %counter , vid)\n",
    "    check , vid = cap.read()\n",
    "    frame_list.append(vid)\n",
    "    counter += 1"
   ]
  },
  {
   "attachments": {},
   "cell_type": "markdown",
   "metadata": {},
   "source": [
    "b. Lấy ra thời lượng của video bài hát ABC song được lưu trong file\n",
    "ABCsong.mp4."
   ]
  },
  {
   "cell_type": "code",
   "execution_count": 16,
   "metadata": {},
   "outputs": [
    {
     "name": "stdout",
     "output_type": "stream",
     "text": [
      "duration in seconds: 61\n",
      "video time: 0:01:01\n"
     ]
    }
   ],
   "source": [
    "import cv2\n",
    "import datetime\n",
    "# create video capture object\n",
    "data = cv2.VideoCapture('C:/Users/VQ/Downloads/Data-Lab5-2/ABCsong.mp4')\n",
    "# count the number of frames\n",
    "frames = data.get(cv2.CAP_PROP_FRAME_COUNT)\n",
    "fps = data.get(cv2.CAP_PROP_FPS)\n",
    "# calculate duration of the video\n",
    "seconds = round(frames / fps)\n",
    "video_time = datetime.timedelta(seconds=seconds)\n",
    "print(f\"duration in seconds: {seconds}\")\n",
    "print(f\"video time: {video_time}\")"
   ]
  },
  {
   "attachments": {},
   "cell_type": "markdown",
   "metadata": {},
   "source": [
    "## Bài tập 8"
   ]
  },
  {
   "attachments": {},
   "cell_type": "markdown",
   "metadata": {},
   "source": [
    "a. Tách video bài hát ABC song được lưu trong file ABCsong.mp4 thành các video ngắn có thời lượng 10 giây, riêng video cuối cùng 5\n",
    "có thể có thời lượng ít hơn 10 giây."
   ]
  },
  {
   "cell_type": "code",
   "execution_count": 18,
   "metadata": {},
   "outputs": [
    {
     "name": "stdout",
     "output_type": "stream",
     "text": [
      "Moviepy - Running:\n",
      ">>> \"+ \" \".join(cmd)\n",
      "Moviepy - Command successful\n",
      "Moviepy - Running:\n",
      ">>> \"+ \" \".join(cmd)\n",
      "Moviepy - Command successful\n",
      "Moviepy - Running:\n",
      ">>> \"+ \" \".join(cmd)\n",
      "Moviepy - Command successful\n",
      "Moviepy - Running:\n",
      ">>> \"+ \" \".join(cmd)\n",
      "Moviepy - Command successful\n",
      "Moviepy - Running:\n",
      ">>> \"+ \" \".join(cmd)\n",
      "Moviepy - Command successful\n",
      "Moviepy - Running:\n",
      ">>> \"+ \" \".join(cmd)\n",
      "Moviepy - Command successful\n",
      "Moviepy - Running:\n",
      ">>> \"+ \" \".join(cmd)\n",
      "Moviepy - Command successful\n"
     ]
    }
   ],
   "source": [
    "from moviepy.video.io.ffmpeg_tools import ffmpeg_extract_subclip\n",
    "# Replace the filename below.\n",
    "required_video_file = \"C:/Users/VQ/Downloads/Data-Lab5-2/ABCsong.mp4\"\n",
    "with open(\"C:/Users/VQ/Downloads/Data-Lab5-2/times.txt\") as f:\n",
    "  times = f.readlines()\n",
    "times = [x.strip() for x in times] \n",
    "for time in times:\n",
    "  starttime = int(time.split(\"-\")[0])\n",
    "  endtime = int(time.split(\"-\")[1])\n",
    "  ffmpeg_extract_subclip(required_video_file, starttime, endtime, targetname=\"C:/Users/VQ/Downloads/split/\"+str(times.index(time)+1)+\".mp4\")"
   ]
  },
  {
   "attachments": {},
   "cell_type": "markdown",
   "metadata": {},
   "source": [
    "b. Tách âm thanh của video bài hát ABC song được lưu trong file\n",
    "ABCsong.mp4 và lưu lại thành file âm thanh có định dạng .wav + c. Chuyển tiếng nói trong file âm thanh ở câu b thành văn bản\n",
    "(Speech to text)."
   ]
  },
  {
   "cell_type": "code",
   "execution_count": 19,
   "metadata": {},
   "outputs": [
    {
     "name": "stdout",
     "output_type": "stream",
     "text": [
      "MoviePy - Writing audio in C:/Users/VQ/Downloads/ABCsong.wav\n"
     ]
    },
    {
     "name": "stderr",
     "output_type": "stream",
     "text": [
      "                                                                      \r"
     ]
    },
    {
     "name": "stdout",
     "output_type": "stream",
     "text": [
      "MoviePy - Done.\n",
      "\n",
      "The resultant text from video is: \n",
      "\n",
      "a b c d e f g h i j k l m n o p q r s t u v w x y and z now I know my ABC's next time won't you sing with me let's go faster a b c d e f g h i j k l m n o p q r s t u v w x y and z now I know my ABC's next time won't you sing with me\n"
     ]
    }
   ],
   "source": [
    "import moviepy.editor as mp\n",
    "import speech_recognition as sr\n",
    "  \n",
    "# Load the video\n",
    "video = mp.VideoFileClip(\"C:/Users/VQ/Downloads/Data-Lab5-2/ABCsong.mp4\")\n",
    "  \n",
    "# Extract the audio from the video\n",
    "audio_file = video.audio\n",
    "audio_file.write_audiofile(\"C:/Users/VQ/Downloads/ABCsong.wav\")\n",
    "  \n",
    "# Initialize recognizer\n",
    "r = sr.Recognizer()\n",
    "  \n",
    "# Load the audio file\n",
    "with sr.AudioFile(\"C:/Users/VQ/Downloads/ABCsong.wav\") as source:\n",
    "    data = r.record(source)\n",
    "  \n",
    "# Convert speech to text\n",
    "text = r.recognize_google(data)\n",
    "  \n",
    "# Print the text\n",
    "print(\"\\nThe resultant text from video is: \\n\")\n",
    "print(text)"
   ]
  },
  {
   "attachments": {},
   "cell_type": "markdown",
   "metadata": {},
   "source": [
    "## Bài tập 9 "
   ]
  },
  {
   "attachments": {},
   "cell_type": "markdown",
   "metadata": {},
   "source": [
    "a. Mở camera của máy tính."
   ]
  },
  {
   "cell_type": "code",
   "execution_count": 20,
   "metadata": {},
   "outputs": [],
   "source": [
    "# import the opencv library\n",
    "import cv2\n",
    "# define a video capture object\n",
    "vid = cv2.VideoCapture(0)\n",
    "while(True):\n",
    "    # Capture the video frame\n",
    "    # by frame\n",
    "    ret, frame = vid.read()\n",
    "    # Display the resulting frame\n",
    "    cv2.imshow('frame', frame)\n",
    "    # the 'q' button is set as the\n",
    "    # quitting button you may use any\n",
    "    # desired button of your choice\n",
    "    if cv2.waitKey(1) & 0xFF == ord('q'):\n",
    "        break\n",
    "# After the loop release the cap object\n",
    "vid.release()\n",
    "# Destroy all the windows\n",
    "cv2.destroyAllWindows()"
   ]
  },
  {
   "attachments": {},
   "cell_type": "markdown",
   "metadata": {},
   "source": [
    "b. Mở camera của máy tính và lưu lại những điều camera quay được\n",
    "thành file video có định dạng .mp4.\n"
   ]
  },
  {
   "cell_type": "code",
   "execution_count": 21,
   "metadata": {},
   "outputs": [],
   "source": [
    "import cv2\n",
    "capture = cv2.VideoCapture(0)\n",
    "fourcc = cv2.VideoWriter_fourcc('X','V','I','D')\n",
    "videoWriter = cv2.VideoWriter('C:/Users/VQ/Downloads/camera.mp4', fourcc, 30.0, (640,480))\n",
    "while (True):\n",
    "    ret, frame = capture.read()\n",
    "    if ret:\n",
    "        cv2.imshow('video', frame)\n",
    "        videoWriter.write(frame)\n",
    "    if cv2.waitKey(1) & 0xFF == ord('q'):\n",
    "        break\n",
    "capture.release()\n",
    "videoWriter.release()\n",
    "cv2.destroyAllWindows()"
   ]
  },
  {
   "attachments": {},
   "cell_type": "markdown",
   "metadata": {},
   "source": [
    "## Bài tập 4"
   ]
  },
  {
   "attachments": {},
   "cell_type": "markdown",
   "metadata": {},
   "source": [
    "a. Đọc file ảnh road_image.jpg ở dạng ảnh xám (Grayscale) và hiển thị\n",
    "ảnh.\n"
   ]
  },
  {
   "cell_type": "code",
   "execution_count": 1,
   "metadata": {},
   "outputs": [],
   "source": [
    "import cv2\n",
    "img_gray = cv2.imread(\"C:/Users/VQ/Downloads/Data-Lab5-2/road_image.jpg\",cv2.IMREAD_GRAYSCALE)\n",
    "cv2.imshow('image',img_gray)\n",
    "cv2.waitKey(0)\n",
    "cv2.destroyAllWindows()"
   ]
  },
  {
   "attachments": {},
   "cell_type": "markdown",
   "metadata": {},
   "source": [
    "b. Xác định kích thước của ảnh xám ở câu a."
   ]
  },
  {
   "cell_type": "code",
   "execution_count": 3,
   "metadata": {},
   "outputs": [
    {
     "data": {
      "text/plain": [
       "(600, 800)"
      ]
     },
     "execution_count": 3,
     "metadata": {},
     "output_type": "execute_result"
    }
   ],
   "source": [
    "img_gray.shape"
   ]
  },
  {
   "attachments": {},
   "cell_type": "markdown",
   "metadata": {},
   "source": [
    "c. Đọc file ảnh road_image.jpg ở dạng ảnh màu (Color) và hiển thị\n",
    "ảnh.\n"
   ]
  },
  {
   "cell_type": "code",
   "execution_count": 2,
   "metadata": {},
   "outputs": [],
   "source": [
    "import cv2\n",
    "img_color = cv2.imread(\"C:/Users/VQ/Downloads/Data-Lab5-2/road_image.jpg\",cv2.IMREAD_COLOR)\n",
    "cv2.imshow('image',img_color)\n",
    "cv2.waitKey(0)\n",
    "cv2.destroyAllWindows()"
   ]
  },
  {
   "attachments": {},
   "cell_type": "markdown",
   "metadata": {},
   "source": [
    "d. Xác định kích thước của ảnh màu ở câu c."
   ]
  },
  {
   "cell_type": "code",
   "execution_count": 4,
   "metadata": {},
   "outputs": [
    {
     "data": {
      "text/plain": [
       "(600, 800, 3)"
      ]
     },
     "execution_count": 4,
     "metadata": {},
     "output_type": "execute_result"
    }
   ],
   "source": [
    "img_color.shape"
   ]
  },
  {
   "attachments": {},
   "cell_type": "markdown",
   "metadata": {},
   "source": [
    "e. Tạo ảnh mới dựa trên ảnh màu ở câu c nhưng đã được điều chỉnh\n",
    "về kích thước dưới đây và hiển thị ảnh kết quả:\n",
    "• Rộng: 300, cao: 400.\n",
    "• Rộng: 1280, cao: 720."
   ]
  },
  {
   "cell_type": "code",
   "execution_count": 5,
   "metadata": {},
   "outputs": [],
   "source": [
    "new1 = cv2.resize(img_color,(300,400))\n",
    "cv2.imshow('image',new1)\n",
    "cv2.waitKey(0)\n",
    "cv2.destroyAllWindows()\n"
   ]
  },
  {
   "cell_type": "code",
   "execution_count": 6,
   "metadata": {},
   "outputs": [],
   "source": [
    "new2 = cv2.resize(img_color,(1280,720))\n",
    "cv2.imshow('image',new2)\n",
    "cv2.waitKey(0)\n",
    "cv2.destroyAllWindows()"
   ]
  },
  {
   "attachments": {},
   "cell_type": "markdown",
   "metadata": {},
   "source": [
    "f. Tạo ảnh mới bằng cách cắt các phần của ảnh màu ở câu c bằng\n",
    "khung cắt hình chữ nhật với các thông số sau và hiển thị ảnh kết\n",
    "quả:\n",
    "• Tâm hình chữ nhật: (0, 0), kích thước hình chữ nhật: (300, 300).\n",
    "• Tâm hình chữ nhật: (300, 400), kích thước hình chữ nhật: (150,\n",
    "250).\n",
    "• Tâm hình chữ nhật: (300, 400), kích thước hình chữ nhật: (1280,\n",
    "720)."
   ]
  },
  {
   "cell_type": "code",
   "execution_count": 7,
   "metadata": {},
   "outputs": [],
   "source": [
    "img_clip = cv2.getRectSubPix(img_color,(300,300),(0,0))\n",
    "cv2.imshow('image', img_clip)\n",
    "cv2.waitKey(0)\n",
    "cv2.destroyAllWindows()"
   ]
  },
  {
   "cell_type": "code",
   "execution_count": 8,
   "metadata": {},
   "outputs": [],
   "source": [
    "img_clip_1 = cv2.getRectSubPix(img_color,(300,400),(150,250))\n",
    "cv2.imshow('image', img_clip_1)\n",
    "cv2.waitKey(0)\n",
    "cv2.destroyAllWindows()"
   ]
  },
  {
   "attachments": {},
   "cell_type": "markdown",
   "metadata": {},
   "source": [
    "g. Tạo ảnh mới bằng cách sử dụng các mã chuyển đổi sau để chuyển\n",
    "đổi hệ màu/không gian màu (Color Space) của ảnh màu ở câu c\n",
    "sang các hệ màu/không gian màu khác:\n",
    "• RGB2BGR.\n",
    "• RGB2GRAY.\n",
    "• RGB2XYZ.\n",
    "• RGB2HSV.\n",
    "• RGB2Lab.\n",
    "• RGB2Luv.\n",
    "• RGB2HLS.\n",
    "• RGB2HSV_FULL.\n",
    "• RGB2HLS_FULL.\n",
    "• RGB2YUV."
   ]
  },
  {
   "cell_type": "code",
   "execution_count": 9,
   "metadata": {},
   "outputs": [],
   "source": [
    "image_rgb2bgr=cv2.cvtColor(img_color, cv2.COLOR_BGR2RGB) \n",
    "cv2.imshow('RGB',image_rgb2bgr) \n",
    "cv2.waitKey(0)\n",
    "cv2.destroyAllWindows()"
   ]
  },
  {
   "cell_type": "code",
   "execution_count": 10,
   "metadata": {},
   "outputs": [],
   "source": [
    "image_rgb2gray=cv2.cvtColor(img_color, cv2.COLOR_BGR2GRAY) \n",
    "cv2.imshow('GRAY',image_rgb2gray) \n",
    "cv2.waitKey(0)\n",
    "cv2.destroyAllWindows()"
   ]
  },
  {
   "cell_type": "code",
   "execution_count": 11,
   "metadata": {},
   "outputs": [],
   "source": [
    "image_rgb2xyz=cv2.cvtColor(img_color, cv2.COLOR_BGR2XYZ) \n",
    "cv2.imshow('XYZ',image_rgb2xyz) \n",
    "cv2.waitKey(0)\n",
    "cv2.destroyAllWindows()"
   ]
  },
  {
   "cell_type": "code",
   "execution_count": 12,
   "metadata": {},
   "outputs": [],
   "source": [
    "image_rgb2hsv=cv2.cvtColor(img_color, cv2.COLOR_BGR2HSV) \n",
    "cv2.imshow('HSV',image_rgb2hsv) \n",
    "cv2.waitKey(0)\n",
    "cv2.destroyAllWindows()"
   ]
  },
  {
   "cell_type": "code",
   "execution_count": 13,
   "metadata": {},
   "outputs": [],
   "source": [
    "image_rgb2lab=cv2.cvtColor(img_color, cv2.COLOR_BGR2LAB) \n",
    "cv2.imshow('Lab',image_rgb2lab) \n",
    "cv2.waitKey(0)\n",
    "cv2.destroyAllWindows()"
   ]
  },
  {
   "cell_type": "code",
   "execution_count": 14,
   "metadata": {},
   "outputs": [],
   "source": [
    "image_rgb2luv=cv2.cvtColor(img_color, cv2.COLOR_BGR2Luv) \n",
    "cv2.imshow('Luv',image_rgb2luv) \n",
    "cv2.waitKey(0)\n",
    "cv2.destroyAllWindows()"
   ]
  },
  {
   "cell_type": "code",
   "execution_count": 15,
   "metadata": {},
   "outputs": [],
   "source": [
    "image_rgb2hls=cv2.cvtColor(img_color, cv2.COLOR_BGR2HLS) \n",
    "cv2.imshow('HLS',image_rgb2hls) \n",
    "cv2.waitKey(0)\n",
    "cv2.destroyAllWindows()"
   ]
  },
  {
   "cell_type": "code",
   "execution_count": 17,
   "metadata": {},
   "outputs": [],
   "source": [
    "image_rgb2hsvfull=cv2.cvtColor(img_color, cv2.COLOR_BGR2HSV_FULL) \n",
    "cv2.imshow('HSV_FULL',image_rgb2hsvfull) \n",
    "cv2.waitKey(0)\n",
    "cv2.destroyAllWindows()"
   ]
  },
  {
   "cell_type": "code",
   "execution_count": 19,
   "metadata": {},
   "outputs": [],
   "source": [
    "image_rgb2hlsfull=cv2.cvtColor(img_color, cv2.COLOR_BGR2HLS_FULL) \n",
    "cv2.imshow('HLS_FULL',image_rgb2hlsfull) \n",
    "cv2.waitKey(0)\n",
    "cv2.destroyAllWindows()"
   ]
  },
  {
   "cell_type": "code",
   "execution_count": 16,
   "metadata": {},
   "outputs": [],
   "source": [
    "image_rgb2yuv=cv2.cvtColor(img_color, cv2.COLOR_BGR2YUV) \n",
    "cv2.imshow('YUV',image_rgb2yuv) \n",
    "cv2.waitKey(0)\n",
    "cv2.destroyAllWindows()"
   ]
  },
  {
   "attachments": {},
   "cell_type": "markdown",
   "metadata": {},
   "source": [
    "h. Tạo ảnh mới bằng cách chuyển đổi tông màu/bản đồ màu (Color 3\n",
    "Map) của ảnh màu ở câu c sang các tông màu/bản đồ màu sau:\n",
    "• Autumn.\n",
    "• Bone.\n",
    "• Jet.\n",
    "• Winter.\n",
    "• Rainbow.\n",
    "• Ocean.\n",
    "• Summer.\n",
    "• Spring.\n",
    "• Cool.\n",
    "• Hsv.\n",
    "• Pink.\n",
    "• Hot.\n",
    "• Parula.\n",
    "• Magma.\n",
    "• Inferno.\n",
    "• Plasma.\n",
    "• Viridis.\n",
    "• Cividis.\n",
    "• Twilight.\n",
    "• Twilight_shifted.\n",
    "• Turbo.\n",
    "• Deepgreen."
   ]
  },
  {
   "cell_type": "code",
   "execution_count": 45,
   "metadata": {},
   "outputs": [],
   "source": [
    "img_map = cv2.applyColorMap(img_color,cv2.COLORMAP_DEEPGREEN)\n",
    "cv2.imshow('Image',img_map) \n",
    "cv2.waitKey(0)\n",
    "cv2.destroyAllWindows()"
   ]
  },
  {
   "cell_type": "code",
   "execution_count": 46,
   "metadata": {},
   "outputs": [],
   "source": [
    "img_map = cv2.applyColorMap(img_color,cv2.COLORMAP_TURBO)\n",
    "cv2.imshow('Image',img_map)\n",
    "cv2.waitKey(0)\n",
    "cv2.destroyAllWindows()"
   ]
  },
  {
   "cell_type": "code",
   "execution_count": 47,
   "metadata": {},
   "outputs": [],
   "source": [
    "img_map = cv2.applyColorMap(img_color,cv2.COLORMAP_TWILIGHT_SHIFTED)\n",
    "cv2.imshow('Image',img_map)\n",
    "cv2.waitKey(0)\n",
    "cv2.destroyAllWindows()"
   ]
  },
  {
   "cell_type": "code",
   "execution_count": 48,
   "metadata": {},
   "outputs": [],
   "source": [
    "img_map = cv2.applyColorMap(img_color,cv2.COLORMAP_TWILIGHT)\n",
    "cv2.imshow('Image',img_map) \n",
    "cv2.waitKey(0)\n",
    "cv2.destroyAllWindows()"
   ]
  },
  {
   "cell_type": "code",
   "execution_count": 37,
   "metadata": {},
   "outputs": [],
   "source": [
    "img_map = cv2.applyColorMap(img_color,cv2.COLORMAP_CIVIDIS)\n",
    "cv2.imshow('Image',img_map)\n",
    "cv2.waitKey(0)\n",
    "cv2.destroyAllWindows()"
   ]
  },
  {
   "cell_type": "code",
   "execution_count": 36,
   "metadata": {},
   "outputs": [],
   "source": [
    "img_map = cv2.applyColorMap(img_color,cv2.COLORMAP_VIRIDIS)\n",
    "cv2.imshow('Image',img_map)\n",
    "cv2.waitKey(0)\n",
    "cv2.destroyAllWindows()"
   ]
  },
  {
   "cell_type": "code",
   "execution_count": 35,
   "metadata": {},
   "outputs": [],
   "source": [
    "img_map = cv2.applyColorMap(img_color,cv2.COLORMAP_PLASMA)\n",
    "cv2.imshow('Image',img_map)\n",
    "cv2.waitKey(0)\n",
    "cv2.destroyAllWindows()"
   ]
  },
  {
   "cell_type": "code",
   "execution_count": 34,
   "metadata": {},
   "outputs": [],
   "source": [
    "img_map = cv2.applyColorMap(img_color,cv2.COLORMAP_INFERNO)\n",
    "cv2.imshow('Image',img_map)\n",
    "cv2.waitKey(0)\n",
    "cv2.destroyAllWindows()"
   ]
  },
  {
   "cell_type": "code",
   "execution_count": 33,
   "metadata": {},
   "outputs": [],
   "source": [
    "img_map = cv2.applyColorMap(img_color,cv2.COLORMAP_MAGMA)\n",
    "cv2.imshow('Image',img_map)\n",
    "cv2.waitKey(0)\n",
    "cv2.destroyAllWindows()"
   ]
  },
  {
   "cell_type": "code",
   "execution_count": 32,
   "metadata": {},
   "outputs": [],
   "source": [
    "img_map = cv2.applyColorMap(img_color,cv2.COLORMAP_PARULA)\n",
    "cv2.imshow('Image',img_map)\n",
    "cv2.waitKey(0)\n",
    "cv2.destroyAllWindows()"
   ]
  },
  {
   "cell_type": "code",
   "execution_count": 31,
   "metadata": {},
   "outputs": [],
   "source": [
    "img_map = cv2.applyColorMap(img_color,cv2.COLORMAP_HOT)\n",
    "cv2.imshow('Image',img_map) \n",
    "cv2.waitKey(0)\n",
    "cv2.destroyAllWindows()"
   ]
  },
  {
   "cell_type": "code",
   "execution_count": 30,
   "metadata": {},
   "outputs": [],
   "source": [
    "img_map = cv2.applyColorMap(img_color,cv2.COLORMAP_PINK)\n",
    "cv2.imshow('Image',img_map)\n",
    "cv2.waitKey(0)\n",
    "cv2.destroyAllWindows()"
   ]
  },
  {
   "cell_type": "code",
   "execution_count": 29,
   "metadata": {},
   "outputs": [],
   "source": [
    "img_map = cv2.applyColorMap(img_color,cv2.COLORMAP_HSV)\n",
    "cv2.imshow('Image',img_map)\n",
    "cv2.waitKey(0)\n",
    "cv2.destroyAllWindows()"
   ]
  },
  {
   "cell_type": "code",
   "execution_count": 28,
   "metadata": {},
   "outputs": [],
   "source": [
    "img_map = cv2.applyColorMap(img_color,cv2.COLORMAP_COOL)\n",
    "cv2.imshow('Image',img_map)\n",
    "cv2.waitKey(0)\n",
    "cv2.destroyAllWindows()"
   ]
  },
  {
   "cell_type": "code",
   "execution_count": 27,
   "metadata": {},
   "outputs": [],
   "source": [
    "img_map = cv2.applyColorMap(img_color,cv2.COLORMAP_SPRING)\n",
    "cv2.imshow('Image',img_map) \n",
    "cv2.waitKey(0)\n",
    "cv2.destroyAllWindows()"
   ]
  },
  {
   "cell_type": "code",
   "execution_count": 26,
   "metadata": {},
   "outputs": [],
   "source": [
    "img_map = cv2.applyColorMap(img_color,cv2.COLORMAP_SUMMER)\n",
    "cv2.imshow('Image',img_map)\n",
    "cv2.waitKey(0)\n",
    "cv2.destroyAllWindows()"
   ]
  },
  {
   "cell_type": "code",
   "execution_count": 25,
   "metadata": {},
   "outputs": [],
   "source": [
    "img_map = cv2.applyColorMap(img_color,cv2.COLORMAP_OCEAN)\n",
    "cv2.imshow('Image',img_map)\n",
    "cv2.waitKey(0)\n",
    "cv2.destroyAllWindows()"
   ]
  },
  {
   "cell_type": "code",
   "execution_count": 24,
   "metadata": {},
   "outputs": [],
   "source": [
    "img_map = cv2.applyColorMap(img_color,cv2.COLORMAP_RAINBOW)\n",
    "cv2.imshow('Image',img_map)\n",
    "cv2.waitKey(0)\n",
    "cv2.destroyAllWindows()"
   ]
  },
  {
   "cell_type": "code",
   "execution_count": 23,
   "metadata": {},
   "outputs": [],
   "source": [
    "img_map = cv2.applyColorMap(img_color,cv2.COLORMAP_WINTER)\n",
    "cv2.imshow('Image',img_map)\n",
    "cv2.waitKey(0)\n",
    "cv2.destroyAllWindows()"
   ]
  },
  {
   "cell_type": "code",
   "execution_count": 22,
   "metadata": {},
   "outputs": [],
   "source": [
    "img_map = cv2.applyColorMap(img_color,cv2.COLORMAP_JET)\n",
    "=cv2.imshow('Image',img_map)\n",
    "cv2.destroyAllWindows()"
   ]
  },
  {
   "cell_type": "code",
   "execution_count": 20,
   "metadata": {},
   "outputs": [],
   "source": [
    "img_map = cv2.applyColorMap(img_color,cv2.COLORMAP_AUTUMN)\n",
    "cv2.imshow('Image',img_map)\n",
    "cv2.waitKey(0)\n",
    "cv2.destroyAllWindows()"
   ]
  },
  {
   "cell_type": "code",
   "execution_count": 21,
   "metadata": {},
   "outputs": [],
   "source": [
    "img_map = cv2.applyColorMap(img_color,cv2.COLORMAP_BONE)\n",
    "cv2.imshow('Image',img_map)\n",
    "cv2.waitKey(0)\n",
    "cv2.destroyAllWindows()"
   ]
  },
  {
   "attachments": {},
   "cell_type": "markdown",
   "metadata": {},
   "source": [
    "## Bài tập 10"
   ]
  },
  {
   "attachments": {},
   "cell_type": "markdown",
   "metadata": {},
   "source": [
    "a. Lấy ra tất cả các node con của node book."
   ]
  },
  {
   "cell_type": "code",
   "execution_count": 49,
   "metadata": {},
   "outputs": [
    {
     "data": {
      "text/plain": [
       "{'bookstore': {'book': [{'title': 'Everyday Italian',\n",
       "    'author': 'Giada De Laurentiis',\n",
       "    'year': 2005,\n",
       "    'price': 30},\n",
       "   {'title': 'Harry Potter',\n",
       "    'author': 'J K. Rowling',\n",
       "    'year': 2005,\n",
       "    'price': 29.99},\n",
       "   {'title': 'XQuery Kick Start',\n",
       "    'author': ['James McGovern',\n",
       "     'Per Bothner',\n",
       "     'Kurt Cagle',\n",
       "     'James Linn',\n",
       "     'Vaidyanathan Nagarajan'],\n",
       "    'year': 2003,\n",
       "    'price': 49.99},\n",
       "   {'title': 'Learning XML',\n",
       "    'author': 'Erik T. Ray',\n",
       "    'year': 2003,\n",
       "    'price': 39.95}]}}"
      ]
     },
     "execution_count": 49,
     "metadata": {},
     "output_type": "execute_result"
    }
   ],
   "source": [
    "import json\n",
    "with open(\"C:/Users/VQ/Downloads/Data-Lab5-2/books.json\",'r') as f:\n",
    "    data = json.load(f)\n",
    "f.close\n",
    "data"
   ]
  },
  {
   "cell_type": "code",
   "execution_count": 51,
   "metadata": {},
   "outputs": [
    {
     "data": {
      "text/plain": [
       "[{'title': 'Everyday Italian',\n",
       "  'author': 'Giada De Laurentiis',\n",
       "  'year': 2005,\n",
       "  'price': 30},\n",
       " {'title': 'Harry Potter',\n",
       "  'author': 'J K. Rowling',\n",
       "  'year': 2005,\n",
       "  'price': 29.99},\n",
       " {'title': 'XQuery Kick Start',\n",
       "  'author': ['James McGovern',\n",
       "   'Per Bothner',\n",
       "   'Kurt Cagle',\n",
       "   'James Linn',\n",
       "   'Vaidyanathan Nagarajan'],\n",
       "  'year': 2003,\n",
       "  'price': 49.99},\n",
       " {'title': 'Learning XML',\n",
       "  'author': 'Erik T. Ray',\n",
       "  'year': 2003,\n",
       "  'price': 39.95}]"
      ]
     },
     "execution_count": 51,
     "metadata": {},
     "output_type": "execute_result"
    }
   ],
   "source": [
    "data['bookstore']['book']"
   ]
  },
  {
   "attachments": {},
   "cell_type": "markdown",
   "metadata": {},
   "source": [
    "b. Lấy ra tất cả các tên sách (title)."
   ]
  },
  {
   "cell_type": "code",
   "execution_count": 54,
   "metadata": {},
   "outputs": [
    {
     "name": "stdout",
     "output_type": "stream",
     "text": [
      "Everyday Italian\n",
      "Harry Potter\n",
      "XQuery Kick Start\n",
      "Learning XML\n"
     ]
    }
   ],
   "source": [
    "for x in data['bookstore']['book']:\n",
    "    print(x['title'])"
   ]
  },
  {
   "attachments": {},
   "cell_type": "markdown",
   "metadata": {},
   "source": [
    "c. Lấy ra tên sách (title) của quyển sách đầu tiên."
   ]
  },
  {
   "cell_type": "code",
   "execution_count": 55,
   "metadata": {},
   "outputs": [
    {
     "data": {
      "text/plain": [
       "'Everyday Italian'"
      ]
     },
     "execution_count": 55,
     "metadata": {},
     "output_type": "execute_result"
    }
   ],
   "source": [
    "data['bookstore']['book'][0]['title']"
   ]
  },
  {
   "attachments": {},
   "cell_type": "markdown",
   "metadata": {},
   "source": [
    "d. Lấy ra thông tin của hai quyển sách đầu tiên."
   ]
  },
  {
   "cell_type": "code",
   "execution_count": 59,
   "metadata": {},
   "outputs": [
    {
     "name": "stdout",
     "output_type": "stream",
     "text": [
      "Everyday Italian\n",
      "Harry Potter\n"
     ]
    }
   ],
   "source": [
    "print(data['bookstore']['book'][0]['title'])\n",
    "print(data['bookstore']['book'][1]['title'])"
   ]
  },
  {
   "attachments": {},
   "cell_type": "markdown",
   "metadata": {},
   "source": [
    "e. Lấy ra tên sách (title) của quyển sách cuối cùng."
   ]
  },
  {
   "cell_type": "code",
   "execution_count": 56,
   "metadata": {},
   "outputs": [
    {
     "data": {
      "text/plain": [
       "'Learning XML'"
      ]
     },
     "execution_count": 56,
     "metadata": {},
     "output_type": "execute_result"
    }
   ],
   "source": [
    "c = len(data['bookstore']['book'])\n",
    "data['bookstore']['book'][c-1]['title']"
   ]
  },
  {
   "attachments": {},
   "cell_type": "markdown",
   "metadata": {},
   "source": [
    "f. Lấy ra tất cả các giá tiền (price)."
   ]
  },
  {
   "cell_type": "code",
   "execution_count": 60,
   "metadata": {},
   "outputs": [
    {
     "name": "stdout",
     "output_type": "stream",
     "text": [
      "30\n",
      "29.99\n",
      "49.99\n",
      "39.95\n"
     ]
    }
   ],
   "source": [
    "for x in data['bookstore']['book']:\n",
    "    print(x['price'])"
   ]
  },
  {
   "attachments": {},
   "cell_type": "markdown",
   "metadata": {},
   "source": [
    "g.Lấy ra các giá tiền (price) trên 35."
   ]
  },
  {
   "cell_type": "code",
   "execution_count": 61,
   "metadata": {},
   "outputs": [
    {
     "name": "stdout",
     "output_type": "stream",
     "text": [
      "49.99\n",
      "39.95\n"
     ]
    }
   ],
   "source": [
    "for x in data['bookstore']['book']:\n",
    "    if x['price'] > 35:\n",
    "        print(x['price'])"
   ]
  },
  {
   "attachments": {},
   "cell_type": "markdown",
   "metadata": {},
   "source": [
    "h. Lấy ra tên (title) của các quyển sách có giá tiền (price) trên 35."
   ]
  },
  {
   "cell_type": "code",
   "execution_count": 62,
   "metadata": {},
   "outputs": [
    {
     "name": "stdout",
     "output_type": "stream",
     "text": [
      "XQuery Kick Start\n",
      "Learning XML\n"
     ]
    }
   ],
   "source": [
    "for x in data['bookstore']['book']:\n",
    "    if x['price'] > 35:\n",
    "        print(x['title'])"
   ]
  },
  {
   "attachments": {},
   "cell_type": "markdown",
   "metadata": {},
   "source": [
    "i. Lấy ra giá tiền (price) của các quyển sách có giá tiền (price) dưới 30\n",
    "hoặc trên 40."
   ]
  },
  {
   "cell_type": "code",
   "execution_count": 63,
   "metadata": {},
   "outputs": [
    {
     "name": "stdout",
     "output_type": "stream",
     "text": [
      "29.99\n",
      "49.99\n"
     ]
    }
   ],
   "source": [
    "for x in data['bookstore']['book']:\n",
    "    if 40 < x['price'] or x['price'] < 30:\n",
    "        print(x['price'])"
   ]
  },
  {
   "attachments": {},
   "cell_type": "markdown",
   "metadata": {},
   "source": [
    "j. Lấy ra tên (title) của các quyển sách có giá tiền (price) nằm trong\n",
    "khoảng từ 40 đến 50."
   ]
  },
  {
   "cell_type": "code",
   "execution_count": 64,
   "metadata": {},
   "outputs": [
    {
     "name": "stdout",
     "output_type": "stream",
     "text": [
      "XQuery Kick Start\n"
     ]
    }
   ],
   "source": [
    "for x in data['bookstore']['book']:\n",
    "    if 50 > x['price'] > 40:\n",
    "        print(x['title'])"
   ]
  },
  {
   "attachments": {},
   "cell_type": "markdown",
   "metadata": {},
   "source": [
    "k. Lấy ra tên tác giả (author) của các quyển sách."
   ]
  },
  {
   "cell_type": "code",
   "execution_count": 65,
   "metadata": {},
   "outputs": [
    {
     "name": "stdout",
     "output_type": "stream",
     "text": [
      "Giada De Laurentiis\n",
      "J K. Rowling\n",
      "['James McGovern', 'Per Bothner', 'Kurt Cagle', 'James Linn', 'Vaidyanathan Nagarajan']\n",
      "Erik T. Ray\n"
     ]
    }
   ],
   "source": [
    "for x in data['bookstore']['book']:\n",
    "    print(x['author'])"
   ]
  },
  {
   "attachments": {},
   "cell_type": "markdown",
   "metadata": {},
   "source": [
    "l. Lấy ra tên (title) của quyển sách có tên tác giả (author) là James Linn.\n"
   ]
  },
  {
   "cell_type": "code",
   "execution_count": 67,
   "metadata": {},
   "outputs": [
    {
     "name": "stdout",
     "output_type": "stream",
     "text": [
      "XQuery Kick Start\n"
     ]
    }
   ],
   "source": [
    "for x in data['bookstore']['book']:\n",
    "    if 'James Linn' in x['author']:\n",
    "        print(x['title'])"
   ]
  },
  {
   "attachments": {},
   "cell_type": "markdown",
   "metadata": {},
   "source": [
    "m. Lấy ra tên (title) của quyển sách có tên tác giả (author) là J K. Rowling\n",
    "và giá tiền (price) dưới 50."
   ]
  },
  {
   "cell_type": "code",
   "execution_count": 68,
   "metadata": {},
   "outputs": [
    {
     "name": "stdout",
     "output_type": "stream",
     "text": [
      "Harry Potter\n"
     ]
    }
   ],
   "source": [
    "for x in data['bookstore']['book']:\n",
    "    if 'J K. Rowling' in x['author'] and x['price']<50:\n",
    "        print(x['title'])"
   ]
  },
  {
   "attachments": {},
   "cell_type": "markdown",
   "metadata": {},
   "source": [
    "n. Lấy ra giá bán cao nhất trong số các quyển sách."
   ]
  },
  {
   "cell_type": "code",
   "execution_count": 69,
   "metadata": {},
   "outputs": [
    {
     "name": "stdout",
     "output_type": "stream",
     "text": [
      "49.99\n"
     ]
    }
   ],
   "source": [
    "m = 0\n",
    "for x in data['bookstore']['book']:\n",
    "    if x['price'] > m:\n",
    "        m = x['price']\n",
    "print(m)"
   ]
  },
  {
   "attachments": {},
   "cell_type": "markdown",
   "metadata": {},
   "source": [
    "o. Lấy ra giá bán trung bình của các quyển sách."
   ]
  },
  {
   "cell_type": "code",
   "execution_count": 70,
   "metadata": {},
   "outputs": [
    {
     "name": "stdout",
     "output_type": "stream",
     "text": [
      "37.4825\n"
     ]
    }
   ],
   "source": [
    "tb = 0\n",
    "for x in data['bookstore']['book']:\n",
    "    tb+= x['price']\n",
    "print(tb/len(data['bookstore']['book']))\n"
   ]
  },
  {
   "attachments": {},
   "cell_type": "markdown",
   "metadata": {},
   "source": [
    "p. Lấy ra năm xuất bản (year) của quyển sách có tên (title) là Learning\n",
    "XML"
   ]
  },
  {
   "cell_type": "code",
   "execution_count": 72,
   "metadata": {},
   "outputs": [
    {
     "name": "stdout",
     "output_type": "stream",
     "text": [
      "2003\n"
     ]
    }
   ],
   "source": [
    "for x in data['bookstore']['book']:\n",
    "    if x['title'] == 'Learning XML':\n",
    "        print(x['year'])"
   ]
  }
 ],
 "metadata": {
  "kernelspec": {
   "display_name": "Python 3",
   "language": "python",
   "name": "python3"
  },
  "language_info": {
   "codemirror_mode": {
    "name": "ipython",
    "version": 3
   },
   "file_extension": ".py",
   "mimetype": "text/x-python",
   "name": "python",
   "nbconvert_exporter": "python",
   "pygments_lexer": "ipython3",
   "version": "3.11.0"
  },
  "orig_nbformat": 4
 },
 "nbformat": 4,
 "nbformat_minor": 2
}
