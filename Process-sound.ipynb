{
 "cells": [
  {
   "cell_type": "code",
   "execution_count": null,
   "metadata": {},
   "outputs": [],
   "source": [
    "import sounddevice\n",
    "import soundfile\n"
   ]
  },
  {
   "attachments": {},
   "cell_type": "markdown",
   "metadata": {},
   "source": [
    "## Bài tập 2"
   ]
  },
  {
   "attachments": {},
   "cell_type": "markdown",
   "metadata": {},
   "source": [
    " Phát nhạc "
   ]
  },
  {
   "cell_type": "code",
   "execution_count": 3,
   "metadata": {},
   "outputs": [],
   "source": [
    "path = \"C:/Users/VQ/Downloads/Data-Lab5-2/VietNamtoi.wav\"\n",
    "data, fs = soundfile.read(path,dtype='float32')\n",
    "sounddevice.play(data,fs)"
   ]
  },
  {
   "cell_type": "code",
   "execution_count": null,
   "metadata": {},
   "outputs": [],
   "source": [
    "from playsound import playsound\n",
    "playsound('path')"
   ]
  },
  {
   "attachments": {},
   "cell_type": "markdown",
   "metadata": {},
   "source": [
    "Ghi âm "
   ]
  },
  {
   "cell_type": "code",
   "execution_count": null,
   "metadata": {},
   "outputs": [],
   "source": [
    "import pyaudio\n",
    "import wave\n",
    "\n",
    "chunk = 1024\n",
    "sample_format = pyaudio.paInt16\n",
    "channels = 1\n",
    "fs = 44100 # frames per channel\n",
    "seconds = 10\n",
    "filename = \"C:/Users/VQ/Downloads/output_pyaudio.wav\"\n",
    "\n",
    "p=pyaudio.PyAudio()\n",
    "\n",
    "print(\"Recording ...\")\n",
    "\n",
    "stream = p.open(format = sample_format,\n",
    "                channels = channels,\n",
    "                rate = fs,\n",
    "                frames_per_buffer =  chunk,\n",
    "                input = True)\n",
    "\n",
    "frames = []\n",
    "for i in range(0, int(fs/chunk * seconds)):\n",
    "    data = stream.read(chunk)\n",
    "    frames.append(data)\n",
    "\n",
    "stream.stop_stream()\n",
    "stream.close()\n",
    "p.terminate()\n",
    "\n",
    "print(\"... Ending Recording\")\n",
    "with wave.open(filename, 'wb') as wf:\n",
    "    wf.setnchannels(channels)\n",
    "    wf.setsampwidth(p.get_sample_size(sample_format))\n",
    "    wf.setframerate(fs)\n",
    "    wf.writeframes(b''.join(frames))\n",
    "    wf.close()"
   ]
  },
  {
   "attachments": {},
   "cell_type": "markdown",
   "metadata": {},
   "source": [
    "## Bài tập 3"
   ]
  },
  {
   "attachments": {},
   "cell_type": "markdown",
   "metadata": {},
   "source": [
    "a.Clipping audio "
   ]
  },
  {
   "cell_type": "code",
   "execution_count": 6,
   "metadata": {},
   "outputs": [
    {
     "name": "stderr",
     "output_type": "stream",
     "text": [
      "c:\\Users\\VQ\\AppData\\Local\\Programs\\Python\\Python311\\Lib\\site-packages\\pydub\\utils.py:170: RuntimeWarning: Couldn't find ffmpeg or avconv - defaulting to ffmpeg, but may not work\n",
      "  warn(\"Couldn't find ffmpeg or avconv - defaulting to ffmpeg, but may not work\", RuntimeWarning)\n"
     ]
    },
    {
     "data": {
      "text/plain": [
       "<_io.BufferedRandom name='C:/Users/VQ/Downloads/trimmed_output_pydub.wav'>"
      ]
     },
     "execution_count": 6,
     "metadata": {},
     "output_type": "execute_result"
    }
   ],
   "source": [
    "from pydub import AudioSegment\n",
    "\n",
    "# start at 0 milliseconds\n",
    "# end at 1500 milliseconds\n",
    "start = 0\n",
    "end = 10000\n",
    "\n",
    "sound = AudioSegment.from_wav(path)\n",
    "extract = sound[start:end]\n",
    "\n",
    "extract.export(\"C:/Users/VQ/Downloads/trimmed_output_pydub.wav\", format=\"wav\")"
   ]
  },
  {
   "attachments": {},
   "cell_type": "markdown",
   "metadata": {},
   "source": [
    "b. Gộp file âm thanh"
   ]
  },
  {
   "cell_type": "code",
   "execution_count": 8,
   "metadata": {},
   "outputs": [
    {
     "data": {
      "text/plain": [
       "<_io.BufferedRandom name='louder_and_quieter.wav'>"
      ]
     },
     "execution_count": 8,
     "metadata": {},
     "output_type": "execute_result"
    }
   ],
   "source": [
    "from pydub import AudioSegment\n",
    "from pydub.playback import play\n",
    "\n",
    "sound1 = AudioSegment.from_wav(\"C:/Users/VQ/Downloads/Data-Lab5-2/phonesound.wav\")\n",
    "sound2 = AudioSegment.from_wav(path)\n",
    "\n",
    "combined = sound1 + sound2\n",
    "\n",
    "# play(combined)\n",
    "combined.export(\"louder_and_quieter.wav\", format=\"wav\")"
   ]
  },
  {
   "attachments": {},
   "cell_type": "markdown",
   "metadata": {},
   "source": [
    "## Bài tập 6 "
   ]
  },
  {
   "attachments": {},
   "cell_type": "markdown",
   "metadata": {},
   "source": [
    "a. Phát video bài hát ABC song được lưu trong file ABCsong.mp4"
   ]
  },
  {
   "cell_type": "code",
   "execution_count": 12,
   "metadata": {},
   "outputs": [],
   "source": [
    "# importing libraries\n",
    "import cv2\n",
    "import numpy as np\n",
    "  \n",
    "# Create a VideoCapture object and read from input file\n",
    "cap = cv2.VideoCapture(\"C:/Users/VQ/Downloads/Data-Lab5-2/ABCsong.mp4\")\n",
    "  \n",
    "# Check if camera opened successfully\n",
    "if (cap.isOpened()== False):\n",
    "    print(\"Error opening video file\")\n",
    "  \n",
    "# Read until video is completed\n",
    "while(cap.isOpened()):\n",
    "      \n",
    "# Capture frame-by-frame\n",
    "    ret, frame = cap.read()\n",
    "    if ret == True:\n",
    "    # Display the resulting frame\n",
    "        cv2.imshow('Video', frame)\n",
    "          \n",
    "    # Press Q on keyboard to exit\n",
    "        if cv2.waitKey(5) & 0xFF == ord('q'):\n",
    "            break\n",
    "  \n",
    "# Break the loop\n",
    "    else:\n",
    "        break\n",
    "  \n",
    "# When everything done, release\n",
    "# the video capture object\n",
    "cap.release()\n",
    "  \n",
    "# Closes all the frames\n",
    "cv2.destroyAllWindows()"
   ]
  },
  {
   "attachments": {},
   "cell_type": "markdown",
   "metadata": {},
   "source": [
    "b. Phát video bài hát ABC song được lưu trong file ABCsong.mp4\n",
    "nhưng theo chiều ngược (phát ngược từ cuối video ngược lên đầu\n",
    "video).\n"
   ]
  },
  {
   "cell_type": "code",
   "execution_count": 14,
   "metadata": {},
   "outputs": [],
   "source": [
    "# import cv2 library\n",
    "import cv2\n",
    "# videoCapture method of cv2 return video object\n",
    "# Pass absolute address of video file\n",
    "cap = cv2.VideoCapture(\"C:/Users/VQ/Downloads/Data-Lab5-2/ABCsong.mp4\")\n",
    "\n",
    "# Grab the current frame.\n",
    "check , vid = cap.read()\n",
    "counter = 0\n",
    "check = True\n",
    "\n",
    "frame_list = []\n",
    "while(check == True):\n",
    "\t# cv2.imwrite(\"frame%d.jpg\" %counter , vid)\n",
    "\tcheck , vid = cap.read()\n",
    "\tframe_list.append(vid)\n",
    "\tcounter += 1\n",
    "frame_list.pop()\n",
    "cap.release()\n",
    "cv2.destroyAllWindows()\n",
    "frame_list.reverse()\n",
    "for frame in frame_list:\n",
    "\tcv2.imshow(\"Video\" , frame)\n",
    "\tif cv2.waitKey(5) and 0xFF == ord(\"q\"):\n",
    "\t\tbreak\n",
    "cap.release()\n",
    "cv2.destroyAllWindows()\n"
   ]
  },
  {
   "attachments": {},
   "cell_type": "markdown",
   "metadata": {},
   "source": [
    "## Bài tập 7"
   ]
  },
  {
   "attachments": {},
   "cell_type": "markdown",
   "metadata": {},
   "source": [
    "a. Trích xuất ra tất cả các frame ảnh của video bài hát ABC song được\n",
    "lưu trong file ABCsong.mp4 và lưu thành các file ảnh có định dạng\n",
    ".jpg"
   ]
  },
  {
   "cell_type": "code",
   "execution_count": 15,
   "metadata": {},
   "outputs": [],
   "source": [
    "import cv2\n",
    "\n",
    "cap = cv2.VideoCapture(\"C:/Users/VQ/Downloads/Data-Lab5-2/ABCsong.mp4\")\n",
    "check , vid = cap.read()\n",
    "counter = 0\n",
    "check = True\n",
    "frame_list = []\n",
    "while(check == True):\n",
    "    cv2.imwrite(\"C:/Users/VQ/Downloads/frame-per-mls/frame%d.jpg\" %counter , vid)\n",
    "    check , vid = cap.read()\n",
    "    frame_list.append(vid)\n",
    "    counter += 1"
   ]
  },
  {
   "attachments": {},
   "cell_type": "markdown",
   "metadata": {},
   "source": [
    "b. Lấy ra thời lượng của video bài hát ABC song được lưu trong file\n",
    "ABCsong.mp4."
   ]
  },
  {
   "cell_type": "code",
   "execution_count": 16,
   "metadata": {},
   "outputs": [
    {
     "name": "stdout",
     "output_type": "stream",
     "text": [
      "duration in seconds: 61\n",
      "video time: 0:01:01\n"
     ]
    }
   ],
   "source": [
    "import cv2\n",
    "import datetime\n",
    "# create video capture object\n",
    "data = cv2.VideoCapture('C:/Users/VQ/Downloads/Data-Lab5-2/ABCsong.mp4')\n",
    "# count the number of frames\n",
    "frames = data.get(cv2.CAP_PROP_FRAME_COUNT)\n",
    "fps = data.get(cv2.CAP_PROP_FPS)\n",
    "# calculate duration of the video\n",
    "seconds = round(frames / fps)\n",
    "video_time = datetime.timedelta(seconds=seconds)\n",
    "print(f\"duration in seconds: {seconds}\")\n",
    "print(f\"video time: {video_time}\")"
   ]
  },
  {
   "attachments": {},
   "cell_type": "markdown",
   "metadata": {},
   "source": [
    "## Bài tập 8"
   ]
  },
  {
   "attachments": {},
   "cell_type": "markdown",
   "metadata": {},
   "source": [
    "a. Tách video bài hát ABC song được lưu trong file ABCsong.mp4 thành các video ngắn có thời lượng 10 giây, riêng video cuối cùng 5\n",
    "có thể có thời lượng ít hơn 10 giây."
   ]
  },
  {
   "cell_type": "code",
   "execution_count": 18,
   "metadata": {},
   "outputs": [
    {
     "name": "stdout",
     "output_type": "stream",
     "text": [
      "Moviepy - Running:\n",
      ">>> \"+ \" \".join(cmd)\n",
      "Moviepy - Command successful\n",
      "Moviepy - Running:\n",
      ">>> \"+ \" \".join(cmd)\n",
      "Moviepy - Command successful\n",
      "Moviepy - Running:\n",
      ">>> \"+ \" \".join(cmd)\n",
      "Moviepy - Command successful\n",
      "Moviepy - Running:\n",
      ">>> \"+ \" \".join(cmd)\n",
      "Moviepy - Command successful\n",
      "Moviepy - Running:\n",
      ">>> \"+ \" \".join(cmd)\n",
      "Moviepy - Command successful\n",
      "Moviepy - Running:\n",
      ">>> \"+ \" \".join(cmd)\n",
      "Moviepy - Command successful\n",
      "Moviepy - Running:\n",
      ">>> \"+ \" \".join(cmd)\n",
      "Moviepy - Command successful\n"
     ]
    }
   ],
   "source": [
    "from moviepy.video.io.ffmpeg_tools import ffmpeg_extract_subclip\n",
    "# Replace the filename below.\n",
    "required_video_file = \"C:/Users/VQ/Downloads/Data-Lab5-2/ABCsong.mp4\"\n",
    "with open(\"C:/Users/VQ/Downloads/Data-Lab5-2/times.txt\") as f:\n",
    "  times = f.readlines()\n",
    "times = [x.strip() for x in times] \n",
    "for time in times:\n",
    "  starttime = int(time.split(\"-\")[0])\n",
    "  endtime = int(time.split(\"-\")[1])\n",
    "  ffmpeg_extract_subclip(required_video_file, starttime, endtime, targetname=\"C:/Users/VQ/Downloads/split/\"+str(times.index(time)+1)+\".mp4\")"
   ]
  },
  {
   "attachments": {},
   "cell_type": "markdown",
   "metadata": {},
   "source": [
    "b. Tách âm thanh của video bài hát ABC song được lưu trong file\n",
    "ABCsong.mp4 và lưu lại thành file âm thanh có định dạng .wav + c. Chuyển tiếng nói trong file âm thanh ở câu b thành văn bản\n",
    "(Speech to text)."
   ]
  },
  {
   "cell_type": "code",
   "execution_count": 19,
   "metadata": {},
   "outputs": [
    {
     "name": "stdout",
     "output_type": "stream",
     "text": [
      "MoviePy - Writing audio in C:/Users/VQ/Downloads/ABCsong.wav\n"
     ]
    },
    {
     "name": "stderr",
     "output_type": "stream",
     "text": [
      "                                                                      \r"
     ]
    },
    {
     "name": "stdout",
     "output_type": "stream",
     "text": [
      "MoviePy - Done.\n",
      "\n",
      "The resultant text from video is: \n",
      "\n",
      "a b c d e f g h i j k l m n o p q r s t u v w x y and z now I know my ABC's next time won't you sing with me let's go faster a b c d e f g h i j k l m n o p q r s t u v w x y and z now I know my ABC's next time won't you sing with me\n"
     ]
    }
   ],
   "source": [
    "import moviepy.editor as mp\n",
    "import speech_recognition as sr\n",
    "  \n",
    "# Load the video\n",
    "video = mp.VideoFileClip(\"C:/Users/VQ/Downloads/Data-Lab5-2/ABCsong.mp4\")\n",
    "  \n",
    "# Extract the audio from the video\n",
    "audio_file = video.audio\n",
    "audio_file.write_audiofile(\"C:/Users/VQ/Downloads/ABCsong.wav\")\n",
    "  \n",
    "# Initialize recognizer\n",
    "r = sr.Recognizer()\n",
    "  \n",
    "# Load the audio file\n",
    "with sr.AudioFile(\"C:/Users/VQ/Downloads/ABCsong.wav\") as source:\n",
    "    data = r.record(source)\n",
    "  \n",
    "# Convert speech to text\n",
    "text = r.recognize_google(data)\n",
    "  \n",
    "# Print the text\n",
    "print(\"\\nThe resultant text from video is: \\n\")\n",
    "print(text)"
   ]
  },
  {
   "attachments": {},
   "cell_type": "markdown",
   "metadata": {},
   "source": [
    "## Bài tập 9 "
   ]
  },
  {
   "attachments": {},
   "cell_type": "markdown",
   "metadata": {},
   "source": [
    "a. Mở camera của máy tính."
   ]
  },
  {
   "cell_type": "code",
   "execution_count": 20,
   "metadata": {},
   "outputs": [],
   "source": [
    "# import the opencv library\n",
    "import cv2\n",
    "# define a video capture object\n",
    "vid = cv2.VideoCapture(0)\n",
    "while(True):\n",
    "    # Capture the video frame\n",
    "    # by frame\n",
    "    ret, frame = vid.read()\n",
    "    # Display the resulting frame\n",
    "    cv2.imshow('frame', frame)\n",
    "    # the 'q' button is set as the\n",
    "    # quitting button you may use any\n",
    "    # desired button of your choice\n",
    "    if cv2.waitKey(1) & 0xFF == ord('q'):\n",
    "        break\n",
    "# After the loop release the cap object\n",
    "vid.release()\n",
    "# Destroy all the windows\n",
    "cv2.destroyAllWindows()"
   ]
  },
  {
   "attachments": {},
   "cell_type": "markdown",
   "metadata": {},
   "source": [
    "b. Mở camera của máy tính và lưu lại những điều camera quay được\n",
    "thành file video có định dạng .mp4.\n"
   ]
  },
  {
   "cell_type": "code",
   "execution_count": null,
   "metadata": {},
   "outputs": [],
   "source": [
    "import cv2\n",
    "capture = cv2.VideoCapture(0)\n",
    "fourcc = cv2.VideoWriter_fourcc('X','V','I','D')\n",
    "videoWriter = cv2.VideoWriter('C:/Users/VQ/Downloads/camera.mp4', fourcc, 30.0, (640,480))\n",
    "while (True):\n",
    "    ret, frame = capture.read()\n",
    "    if ret:\n",
    "        cv2.imshow('video', frame)\n",
    "        videoWriter.write(frame)\n",
    "    if cv2.waitKey(1) & 0xFF == ord('q'):\n",
    "        break\n",
    "capture.release()\n",
    "videoWriter.release()\n",
    "cv2.destroyAllWindows()"
   ]
  }
 ],
 "metadata": {
  "kernelspec": {
   "display_name": "Python 3",
   "language": "python",
   "name": "python3"
  },
  "language_info": {
   "codemirror_mode": {
    "name": "ipython",
    "version": 3
   },
   "file_extension": ".py",
   "mimetype": "text/x-python",
   "name": "python",
   "nbconvert_exporter": "python",
   "pygments_lexer": "ipython3",
   "version": "3.11.0"
  },
  "orig_nbformat": 4
 },
 "nbformat": 4,
 "nbformat_minor": 2
}
